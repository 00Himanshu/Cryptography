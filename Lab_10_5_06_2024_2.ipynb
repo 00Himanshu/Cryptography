{
  "nbformat": 4,
  "nbformat_minor": 0,
  "metadata": {
    "colab": {
      "provenance": [],
      "authorship_tag": "ABX9TyMLKnhS7HYtnIqsxaaUy6Bd",
      "include_colab_link": true
    },
    "kernelspec": {
      "name": "python3",
      "display_name": "Python 3"
    },
    "language_info": {
      "name": "python"
    }
  },
  "cells": [
    {
      "cell_type": "markdown",
      "metadata": {
        "id": "view-in-github",
        "colab_type": "text"
      },
      "source": [
        "<a href=\"https://colab.research.google.com/github/00Himanshu/Cryptography/blob/main/Lab_10_5_06_2024_2.ipynb\" target=\"_parent\"><img src=\"https://colab.research.google.com/assets/colab-badge.svg\" alt=\"Open In Colab\"/></a>"
      ]
    },
    {
      "cell_type": "code",
      "source": [
        "def string_to_binary(s):\n",
        "    binary = \"\"\n",
        "    for char in s:\n",
        "        binary += format(ord(char), '08b')\n",
        "    return binary\n",
        "\n",
        "def binary_to_hex(binary):\n",
        "    hex_value = hex(int(binary, 2))[2:]\n",
        "    return hex_value\n",
        "\n",
        "def binary_to_decimal(binary):\n",
        "    decimal = int(binary, 2)\n",
        "    return decimal\n",
        "\n",
        "def decimal_to_ascii(decimal):\n",
        "    ascii_char = chr(decimal)\n",
        "    return ascii_char\n",
        "\n",
        "def hex_to_ascii(hex_string):\n",
        "    ascii_string = bytes.fromhex(hex_string).decode('utf-8')\n",
        "    return ascii_string\n",
        "\n",
        "def divide_into_segments(binary):\n",
        "    segments = []\n",
        "    for i in range(0, len(binary), 4):\n",
        "        segment = binary[i:i+4]\n",
        "        segments.append(segment)\n",
        "    return segments\n",
        "\n",
        "def hash_function_one(segments):\n",
        "    hash_one = 0\n",
        "    for segment in segments:\n",
        "        hash_one ^= int(segment, 2)\n",
        "    return format(hash_one, '04b')\n",
        "\n",
        "def hash_function_second(segments):\n",
        "  mod_add = 0\n",
        "  for segment in segments:\n",
        "    mod_add += int(segment, 2)\n",
        "    hash_two = mod_add % 16\n",
        "    return format(hash_two, '04b')\n",
        "\n",
        "def test_hash_function():\n",
        "    input_strings = [\"This is a test string\"]\n",
        "    for s in input_strings:\n",
        "        binary = string_to_binary(s)\n",
        "        segments = divide_into_segments(binary)\n",
        "        binary_hash = hash_function_one(segments)\n",
        "        hex_value=binary_to_hex(binary_hash)\n",
        "        hash_value=binary_to_decimal(binary_hash)\n",
        "        ascii=  decimal_to_ascii(hash_value)\n",
        "       # hash_value= hex_to_ascii(binary_hash)\n",
        "\n",
        "    print(f\"Input String: {input_strings}, Binary Hash Value: {binary_hash}\")\n",
        "\n",
        "    print(f\"Input String: {input_strings}, Decimal Hash Value: {hash_value}\")\n",
        "\n",
        "    print(f\"Input String: {input_strings}, Hexadecimal Hash Value: {hex_value}\")\n",
        "\n",
        "    print(f\"Input String: {input_strings}, ASCII Hash Value: {ascii}\")\n",
        "\n",
        "\n",
        "def test_hash_function_two():\n",
        "    input_strings = [\"This is a test string\"]\n",
        "    for s in input_strings:\n",
        "        binary = string_to_binary(s)\n",
        "        segments = divide_into_segments(binary)\n",
        "        binary_hash = hash_function_second(segments)\n",
        "        hex_value=binary_to_hex(binary_hash)\n",
        "        hash_value=binary_to_decimal(binary_hash)\n",
        "        ascii=  decimal_to_ascii(hash_value)\n",
        "    print(\"\\nValues of Second Hash Function\")\n",
        "    print(f\"Input String: {input_strings}, Binary Hash Value: {binary_hash}\")\n",
        "\n",
        "    print(f\"Input String: {input_strings}, Decimal Hash Value: {hash_value}\")\n",
        "\n",
        "    print(f\"Input String: {input_strings}, Hexadecimal Hash Value: {hex_value}\")\n",
        "\n",
        "    print(f\"Input String: {input_strings}, ASCII Hash Value: {ascii}\")\n",
        "\n",
        "\n",
        "test_hash_function()\n",
        "test_hash_function_two()"
      ],
      "metadata": {
        "colab": {
          "base_uri": "https://localhost:8080/"
        },
        "id": "hiZ9MNoN5SV1",
        "outputId": "5003afa0-fdf2-4475-e9db-78d9f4c07da3"
      },
      "execution_count": 28,
      "outputs": [
        {
          "output_type": "stream",
          "name": "stdout",
          "text": [
            "Input String: ['This is a test string'], Binary Hash Value: 1011\n",
            "Input String: ['This is a test string'], Decimal Hash Value: 11\n",
            "Input String: ['This is a test string'], Hexadecimal Hash Value: b\n",
            "Input String: ['This is a test string'], ASCII Hash Value: \u000b\n",
            "\n",
            "Values of Second Hash Function\n",
            "Input String: ['This is a test string'], Binary Hash Value: 0101\n",
            "Input String: ['This is a test string'], Decimal Hash Value: 5\n",
            "Input String: ['This is a test string'], Hexadecimal Hash Value: 5\n",
            "Input String: ['This is a test string'], ASCII Hash Value: \u0005\n"
          ]
        }
      ]
    }
  ]
}