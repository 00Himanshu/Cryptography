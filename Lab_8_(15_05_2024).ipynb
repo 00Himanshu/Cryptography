{
  "nbformat": 4,
  "nbformat_minor": 0,
  "metadata": {
    "colab": {
      "provenance": [],
      "authorship_tag": "ABX9TyNB1sKLWjxq6/ot3UlTinmV",
      "include_colab_link": true
    },
    "kernelspec": {
      "name": "python3",
      "display_name": "Python 3"
    },
    "language_info": {
      "name": "python"
    }
  },
  "cells": [
    {
      "cell_type": "markdown",
      "metadata": {
        "id": "view-in-github",
        "colab_type": "text"
      },
      "source": [
        "<a href=\"https://colab.research.google.com/github/00Himanshu/Cryptography/blob/main/Lab_8_(15_05_2024).ipynb\" target=\"_parent\"><img src=\"https://colab.research.google.com/assets/colab-badge.svg\" alt=\"Open In Colab\"/></a>"
      ]
    },
    {
      "cell_type": "markdown",
      "source": [
        "1. Implement RSA for 'textual' data encryption and decryption, keeping following instructions in account:\n",
        "\n",
        " > - Convert char. string to binary string before the encryption\n",
        " > - Unencrypted numbers (representing textual string block) should be represented in N-2 bits\n",
        " > - Encrypted numbers (representing ciphertext's block) should be represented in N bits\n",
        " > - The ciphertext should be a binary string\n",
        " > - You must demonstrate the both encryption and decryption N represents the length of `n` in RSA key-pair."
      ],
      "metadata": {
        "id": "eKx7EQ7Oq0hz"
      }
    },
    {
      "cell_type": "code",
      "source": [
        "import random\n",
        "\n",
        "\n",
        "def gcd(a, b):\n",
        "    while b != 0:\n",
        "        a, b = b, a % b\n",
        "    return a\n",
        "\n",
        "\n",
        "def mod_inverse(a, m): # Function to calculate the modular multiplicative inverse of a number with respect to another number\n",
        "    for x in range(1, m):\n",
        "        if (a * x) % m == 1:\n",
        "            return x\n",
        "    return None\n",
        "\n",
        "def text_to_binary(text):\n",
        "    binary = \"\"\n",
        "    for char in text:\n",
        "        binary += format(ord(char), '08b')\n",
        "    return binary\n",
        "\n",
        "\n",
        "def binary_to_text(binary):\n",
        "    text = \"\"\n",
        "    for i in range(0, len(binary), 8):\n",
        "        char = binary[i:i+8]\n",
        "        text += chr(int(char, 2))\n",
        "    return text\n",
        "\n",
        "def generate_keys(p, q):\n",
        "    n = p * q\n",
        "    phi = (p - 1) * (q - 1)\n",
        "    e = random.choice(range(2, phi))\n",
        "    while gcd(e, phi) != 1:\n",
        "        e = random.choice(range(2, phi))\n",
        "    d = mod_inverse(e, phi)\n",
        "    return (e, n), (d, n)\n",
        "\n",
        "\n",
        "def rsa_encrypt(message, public_key, n):\n",
        "    e, _ = public_key\n",
        "    binary = text_to_binary(message)\n",
        "    blocks = [binary[i:i+n.bit_length()-1] for i in range(0, len(binary), n.bit_length()-1)]\n",
        "    ciphertext = \"\"\n",
        "    for block in blocks:\n",
        "        block = int(block, 2)\n",
        "        ciphertext += format(pow(block, e, n), '0{}b'.format(n.bit_length()))\n",
        "    return ciphertext\n",
        "\n",
        "\n",
        "def rsa_decrypt(ciphertext, private_key, n):\n",
        "    d, _ = private_key\n",
        "    binary = \"\"\n",
        "    blocks = [ciphertext[i:i+n.bit_length()] for i in range(0, len(ciphertext), n.bit_length())]\n",
        "    for block in blocks:\n",
        "        block = int(block, 2)\n",
        "        binary += format(pow(block, d, n), '0{}b'.format(n.bit_length()-1))\n",
        "    return binary_to_text(binary)\n",
        "\n",
        "\n",
        "\n",
        "p = 3\n",
        "q = 7\n",
        "message = \"Massage\"\n",
        "\n",
        "public_key, private_key = generate_keys(p, q)\n",
        "print(\"Public key:\", public_key)\n",
        "print(\"Private key:\", private_key)\n",
        "\n",
        "ciphertext = rsa_encrypt(message, public_key, p*q)\n",
        "print(\"Ciphertext:\", ciphertext)\n",
        "\n",
        "decrypted_message = rsa_decrypt(ciphertext, private_key, p*q)\n",
        "print(\"Decrypted message:\", decrypted_message)"
      ],
      "metadata": {
        "colab": {
          "base_uri": "https://localhost:8080/"
        },
        "id": "p4z4HNEs_2jh",
        "outputId": "e89f9657-30f0-4bd0-b9ad-1265e21c2a21"
      },
      "execution_count": 10,
      "outputs": [
        {
          "output_type": "stream",
          "name": "stdout",
          "text": [
            "Public key: (5, 21)\n",
            "Private key: (5, 21)\n",
            "Ciphertext: 1000001000001101000100110000110011000011001100111101011000110101100000100010011100110011110011101011001100001100110100000101100001\n",
            "Decrypted message: Hello, World!\n"
          ]
        }
      ]
    }
  ]
}