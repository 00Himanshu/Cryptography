{
  "nbformat": 4,
  "nbformat_minor": 0,
  "metadata": {
    "colab": {
      "provenance": [],
      "authorship_tag": "ABX9TyOk2rPGBeRp0xykBJCk08kW",
      "include_colab_link": true
    },
    "kernelspec": {
      "name": "python3",
      "display_name": "Python 3"
    },
    "language_info": {
      "name": "python"
    }
  },
  "cells": [
    {
      "cell_type": "markdown",
      "metadata": {
        "id": "view-in-github",
        "colab_type": "text"
      },
      "source": [
        "<a href=\"https://colab.research.google.com/github/00Himanshu/Cryptography/blob/main/Lab_7.ipynb\" target=\"_parent\"><img src=\"https://colab.research.google.com/assets/colab-badge.svg\" alt=\"Open In Colab\"/></a>"
      ]
    },
    {
      "cell_type": "code",
      "execution_count": 13,
      "metadata": {
        "id": "1R1S71IlbbAV",
        "colab": {
          "base_uri": "https://localhost:8080/"
        },
        "outputId": "1720c057-59e4-4516-d884-fdef4a70849e"
      },
      "outputs": [
        {
          "output_type": "stream",
          "name": "stdout",
          "text": [
            "List of all posible values of g= [1, 2, 3, 4, 5, 6, 7, 8, 9, 10, 11, 12, 13, 14, 15, 16, 17, 18, 19, 20, 21, 22]\n",
            "Private key of Alice: 16\n",
            "Private key of Bob: 9\n",
            "Alice computes A =  3\n",
            "Bob computes B =  11\n",
            "Alice computes K1 = 18\n",
            "Bob computes K2 =  18\n",
            "Alice and Bob have successfully established a shared secret key!\n"
          ]
        }
      ],
      "source": [
        "import random\n",
        "\n",
        "def gcd(n1, n2):\n",
        "    if n1 > n2:\n",
        "        dividend = n1\n",
        "        divisor = n2\n",
        "    else:\n",
        "        dividend = n2\n",
        "        divisor = n1\n",
        "    while True:\n",
        "        remainder = dividend % divisor\n",
        "        if remainder == 0:\n",
        "            return divisor\n",
        "        else:\n",
        "            dividend, divisor = divisor, remainder\n",
        "\n",
        "def toient(n):\n",
        "  result=[]\n",
        "  for i in range(1,n):\n",
        "    if (gcd(i,n))==1:\n",
        "      result.append(i)\n",
        "  return result\n",
        "\n",
        "# Choose a large prime number p\n",
        "p = 23\n",
        "\n",
        "# Choose a primitive root g (a number such that g^(p-1) mod p = 1)\n",
        "list_of_posible_g = toient(p)\n",
        "\n",
        "print(\"List of all posible values of g=\", list_of_posible_g)\n",
        "g = random.choice(list_of_posible_g)\n",
        "\n",
        "a = random.randint(1, p-1)\n",
        "print(\"Private key of Alice:\", a)\n",
        "\n",
        "b = random.randint(1, p-1)\n",
        "print(\"Private key of Bob:\",b)\n",
        "\n",
        "A = pow(g, a, p)\n",
        "print(\"Alice computes A = \", A)\n",
        "\n",
        "B = pow(g, b, p)\n",
        "print(\"Bob computes B = \", B)\n",
        "\n",
        "K1 = pow(B, a, p)\n",
        "print(\"Alice computes K1 =\", K1)\n",
        "\n",
        "K2 = pow(A, b, p)\n",
        "print(\"Bob computes K2 = \",K2)\n",
        "\n",
        "if K1 == K2:\n",
        "    print(\"Alice and Bob have successfully established a shared secret key!\")\n",
        "else:\n",
        "    print(\"Alice and Bob have failed to establish a shared secret key.\")"
      ]
    },
    {
      "cell_type": "code",
      "source": [
        "import random\n",
        "\n",
        "# Choose a large prime number p\n",
        "p = 23\n",
        "\n",
        "# Choose a primitive root g (a number such that g^(p-1) mod p = 1)\n",
        "list_of_possible_g = [i for i in range(1, p)]\n",
        "\n",
        "print(\"List of all posible values of g=\", list_of_posible_g)\n",
        "g = random.choice(list_of_posible_g)\n",
        "print(\"Value taken for g =\", g)\n",
        "\n",
        "a = random.randint(1, p-1)\n",
        "print(\"Private key of Alice =\", a)\n",
        "\n",
        "b = random.randint(1, p-1)\n",
        "print(\"Private key of Bob =\",b)\n",
        "\n",
        "A = pow(g, a, p)\n",
        "print(\"Alice computes A =\", A)\n",
        "\n",
        "B = pow(g, b, p)\n",
        "print(\"Bob computes B =\", B)\n",
        "\n",
        "K1 = pow(B, a, p)\n",
        "print(\"Alice computes K1 =\", K1)\n",
        "\n",
        "K2 = pow(A, b, p)\n",
        "print(\"Bob computes K2 =\",K2)\n",
        "\n",
        "if K1 == K2:\n",
        "    print(\"Alice and Bob have successfully established a shared secret key!\")\n",
        "else:\n",
        "    print(\"Alice and Bob have failed to establish a shared secret key.\")"
      ],
      "metadata": {
        "colab": {
          "base_uri": "https://localhost:8080/"
        },
        "id": "iBgF8F3Yn5sM",
        "outputId": "fe8d8914-606c-47e7-ce58-255069c57b7b"
      },
      "execution_count": 15,
      "outputs": [
        {
          "output_type": "stream",
          "name": "stdout",
          "text": [
            "List of all posible values of g= [1, 2, 3, 4, 5, 6, 7, 8, 9, 10, 11, 12, 13, 14, 15, 16, 17, 18, 19, 20, 21, 22]\n",
            "Value taken for g = 21\n",
            "Private key of Alice = 4\n",
            "Private key of Bob = 13\n",
            "Alice computes A = 16\n",
            "Bob computes B = 19\n",
            "Alice computes K1 = 3\n",
            "Bob computes K2 = 3\n",
            "Alice and Bob have successfully established a shared secret key!\n"
          ]
        }
      ]
    }
  ]
}