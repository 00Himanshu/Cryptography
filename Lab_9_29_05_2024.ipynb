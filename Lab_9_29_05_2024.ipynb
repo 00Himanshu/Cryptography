{
  "nbformat": 4,
  "nbformat_minor": 0,
  "metadata": {
    "colab": {
      "provenance": [],
      "authorship_tag": "ABX9TyMgsb8qSmDdiP4bKYIbirYY",
      "include_colab_link": true
    },
    "kernelspec": {
      "name": "python3",
      "display_name": "Python 3"
    },
    "language_info": {
      "name": "python"
    }
  },
  "cells": [
    {
      "cell_type": "markdown",
      "metadata": {
        "id": "view-in-github",
        "colab_type": "text"
      },
      "source": [
        "<a href=\"https://colab.research.google.com/github/00Himanshu/Cryptography/blob/main/Lab_9_29_05_2024.ipynb\" target=\"_parent\"><img src=\"https://colab.research.google.com/assets/colab-badge.svg\" alt=\"Open In Colab\"/></a>"
      ]
    },
    {
      "cell_type": "markdown",
      "source": [
        "Implement and understand the El Gamal encryption scheme using Python. You will explore the multiplicative group of positive integers modulo a prime number, select a generator for this group, and calculate the El Gamal cipher text for a given message."
      ],
      "metadata": {
        "id": "LW3Pk5dQn-8L"
      }
    },
    {
      "cell_type": "code",
      "execution_count": 5,
      "metadata": {
        "colab": {
          "base_uri": "https://localhost:8080/"
        },
        "id": "4cgxsVs_n9FT",
        "outputId": "8648f4f1-7d24-40db-81b7-1a8b9ed8167c"
      },
      "outputs": [
        {
          "output_type": "stream",
          "name": "stdout",
          "text": [
            "Prime number : 257\n",
            "Public key:(257, 2, 129) \n",
            "Private Key: 255\n",
            "Ciphertext: (253, 63)\n",
            "Decrypted message: 20\n"
          ]
        }
      ],
      "source": [
        "import random\n",
        "\n",
        "def get_prime(bits):\n",
        "    \"\"\"\n",
        "    Generate a random prime number with specified number of bits.\n",
        "    \"\"\"\n",
        "    while True:\n",
        "        p = pow(2, bits) + 1\n",
        "        if p % 3 == 0:\n",
        "            continue\n",
        "        if pow(2, p - 1, p) == 1:\n",
        "            return p\n",
        "\n",
        "def extended_gcd(a, b):\n",
        "    \"\"\"\n",
        "    Extended Euclidean algorithm to find the greatest common divisor of a and b.\n",
        "    \"\"\"\n",
        "    if a == 0:\n",
        "        return (b, 0, 1)\n",
        "    else:\n",
        "        g, x, y = extended_gcd(b % a, a)\n",
        "        return (g, y - (b // a) * x, x)\n",
        "\n",
        "def invmod(a, b):\n",
        "    \"\"\"\n",
        "    Compute the modular multiplicative inverse of a modulo b.\n",
        "    \"\"\"\n",
        "    g, x, y = extended_gcd(a, b)\n",
        "    if g != 1:\n",
        "        raise ValueError(\"Modular inverse does not exist!\")\n",
        "    else:\n",
        "        return x % b\n",
        "\n",
        "def generate_group(p):\n",
        "    \"\"\"\n",
        "    Generate the multiplicative group of positive integers modulo p.\n",
        "    \"\"\"\n",
        "    group = set()\n",
        "    for i in range(1, p):\n",
        "        if pow(i, p - 1, p) == 1:\n",
        "            group.add(i)\n",
        "    return group\n",
        "\n",
        "def select_generator(group):\n",
        "    \"\"\"\n",
        "    Select a generator for the given group.\n",
        "    \"\"\"\n",
        "    for g in group:\n",
        "        if pow(g, 2, len(group)) != 1:\n",
        "            return g\n",
        "\n",
        "def generate_key(p):\n",
        "    \"\"\"\n",
        "    Generate the public and private keys for the El Gamal encryption scheme.\n",
        "    \"\"\"\n",
        "    group = generate_group(p)\n",
        "    g = select_generator(group)\n",
        "    x = pow(g, random.randint(1, len(group) - 1), p)\n",
        "    y = pow(g, x, p)\n",
        "    return (p, g, y), x\n",
        "\n",
        "def encrypt(message, key):\n",
        "    \"\"\"\n",
        "    Encrypt a message using the El Gamal encryption scheme.\n",
        "    \"\"\"\n",
        "    p, g, y = key\n",
        "    k = random.randint(1, p - 2)\n",
        "    c1 = pow(g, k, p)\n",
        "    c2 = (message * pow(y, k, p)) % p\n",
        "    return (c1, c2)\n",
        "\n",
        "def decrypt(ciphertext, key):\n",
        "    \"\"\"\n",
        "Decrypt a ciphertext using the El Gamal encryption scheme.\n",
        "    \"\"\"\n",
        "    p, g, y = key\n",
        "    x = key[1]\n",
        "    c1, c2 = ciphertext\n",
        "    message = (c2 * invmod(pow(c1, x, p), p)) % p\n",
        "    return message\n",
        "\n",
        "\n",
        "p = get_prime(8)\n",
        "print(\"Prime number :\",p)\n",
        "\n",
        "public_key, private_key = generate_key(p)\n",
        "print(f\"Public key:{public_key} \\nPrivate Key: {private_key}\")\n",
        "\n",
        "message = 5\n",
        "ciphertext = encrypt(message, public_key)\n",
        "\n",
        "print(\"Ciphertext:\", ciphertext)\n",
        "\n",
        "\n",
        "\n",
        "decrypted_message = decrypt(ciphertext, public_key)\n",
        "print(\"Decrypted message:\", decrypted_message)"
      ]
    },
    {
      "cell_type": "code",
      "source": [
        "import random\n",
        "\n",
        "def get_prime(bits):\n",
        "    \"\"\"\n",
        "    Generate a random prime number with specified number of bits.\n",
        "    \"\"\"\n",
        "    while True:\n",
        "        p = pow(2, bits) + 1\n",
        "        if p % 3 == 0:\n",
        "            continue\n",
        "        if pow(2, p - 1, p) == 1:\n",
        "            return p\n",
        "\n",
        "def extended_gcd(a, b):\n",
        "    \"\"\"\n",
        "    Extended Euclidean algorithm to find the greatest common divisor of a and b.\n",
        "    \"\"\"\n",
        "    if a == 0:\n",
        "        return (b, 0, 1)\n",
        "    else:\n",
        "        g, x, y = extended_gcd(b % a, a)\n",
        "        return (g, y - (b // a) * x, x)\n",
        "\n",
        "def invmod(a, b):\n",
        "    \"\"\"\n",
        "    Compute the modular multiplicative inverse of a modulo b.\n",
        "    \"\"\"\n",
        "    g, x, y = extended_gcd(a, b)\n",
        "    if g != 1:\n",
        "        raise ValueError(\"Modular inverse does not exist!\")\n",
        "    else:\n",
        "        return x % b\n",
        "\n",
        "def encrypt(message, key):\n",
        "    \"\"\"\n",
        "    Encrypt a message using the El Gamal encryption scheme.\n",
        "    \"\"\"\n",
        "    p, g, y = key\n",
        "    k = random.randint(1, p - 2)\n",
        "    c1 = pow(g, k, p)\n",
        "    c2 = (message * pow(y, k, p)) % p\n",
        "    return (c1, c2)\n",
        "\n",
        "def decrypt(ciphertext, public_key, private_key):\n",
        "    \"\"\"\n",
        "Decrypt a ciphertext using the El Gamal encryption scheme.\n",
        "    \"\"\"\n",
        "    p, g, y = public_key\n",
        "    x = private_key\n",
        "    c1, c2 = ciphertext\n",
        "    message = (c2 * invmod(pow(c1, p - 1 - x, p), p)) % p\n",
        "    return message\n",
        "\n",
        "p = 11\n",
        "print(\"Prime number :\",p)\n",
        "\n",
        "public_key, private_key = (11, 2,8), 3\n",
        "print(f\"Public key:{public_key} \\nPrivate Key: {private_key}\")\n",
        "\n",
        "message = 4\n",
        "ciphertext = encrypt(message, public_key)\n",
        "\n",
        "print(\"Ciphertext:\", ciphertext)\n",
        "\n",
        "decrypted_message = decrypt(ciphertext, public_key, private_key)\n",
        "print(\"Decrypted message:\", decrypted_message)"
      ],
      "metadata": {
        "colab": {
          "base_uri": "https://localhost:8080/"
        },
        "id": "0kUowGD-rOsi",
        "outputId": "8d55aae8-4acb-4197-ae31-5a727410146a"
      },
      "execution_count": 13,
      "outputs": [
        {
          "output_type": "stream",
          "name": "stdout",
          "text": [
            "Prime number : 11\n",
            "Public key:(11, 2, 8) \n",
            "Private Key: 3\n",
            "Ciphertext: (10, 7)\n",
            "Decrypted message: 4\n"
          ]
        }
      ]
    },
    {
      "cell_type": "code",
      "source": [
        "import random\n",
        "\n",
        "def is_primitive_root(g, n):\n",
        "    if pow(g, n-1, n) != 1:\n",
        "        return False\n",
        "    for p in prime_factors(n-1):\n",
        "        if pow(g, (n-1)//p, n) == 1:\n",
        "            return False\n",
        "    return True\n",
        "\n",
        "def prime_factors(n):\n",
        "    factors = []\n",
        "    i = 2\n",
        "    while i * i <= n:\n",
        "        if n % i:\n",
        "            i += 1\n",
        "        else:\n",
        "            n //= i\n",
        "            factors.append(i)\n",
        "    if n > 1:\n",
        "        factors.append(n)\n",
        "    return factors\n",
        "\n",
        "\n",
        "def encrypt(p,m):\n",
        "\n",
        "  list_of_posible_g=[]\n",
        "  for g in range(2, p):\n",
        "      if is_primitive_root(g, p):\n",
        "          list_of_posible_g.append(g)\n",
        "\n",
        "\n",
        "  g = random.choice(list_of_posible_g)\n",
        "\n",
        "  private_key=random.randint(1, p-1)\n",
        "\n",
        "\n",
        "  public_key= pow(g,private_key, p)\n",
        "\n",
        "  k=random.randint(1, p-1)\n",
        "  a= pow(g,k,p)\n",
        "\n",
        "  c=pow((m*public_key),k,p)\n",
        "\n",
        "\n",
        "  return list_of_posible_g, g, private_key, public_key, c\n",
        "\n",
        "p = 13\n",
        "m=int(input(\"Enter your massage: \"))\n",
        "list_of_posible_g, g, private_key, public_key,Cyphertext= encrypt(p, m)\n",
        "\n",
        "print(\"List of all posible values of g=\", list_of_posible_g)\n",
        "print(f\"Private Key: {private_key}\")\n",
        "print(f\"Public Key: {public_key}\")\n",
        "print(\"Cyphertext:\",c)"
      ],
      "metadata": {
        "colab": {
          "base_uri": "https://localhost:8080/"
        },
        "id": "3ko296gVwJJk",
        "outputId": "f850754c-b22f-495c-ddda-73f34e5bf235"
      },
      "execution_count": 25,
      "outputs": [
        {
          "output_type": "stream",
          "name": "stdout",
          "text": [
            "Enter your massage: 5\n",
            "List of all posible values of g= [2, 6, 7, 11]\n",
            "Private Key: 5\n",
            "Public Key: 2\n",
            "Cyphertext: 12\n"
          ]
        }
      ]
    }
  ]
}