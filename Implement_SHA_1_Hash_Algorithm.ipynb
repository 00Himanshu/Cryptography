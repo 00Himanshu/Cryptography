{
  "nbformat": 4,
  "nbformat_minor": 0,
  "metadata": {
    "colab": {
      "provenance": [],
      "authorship_tag": "ABX9TyPuiGWzrah7ljtIm9zpAqf5",
      "include_colab_link": true
    },
    "kernelspec": {
      "name": "python3",
      "display_name": "Python 3"
    },
    "language_info": {
      "name": "python"
    }
  },
  "cells": [
    {
      "cell_type": "markdown",
      "metadata": {
        "id": "view-in-github",
        "colab_type": "text"
      },
      "source": [
        "<a href=\"https://colab.research.google.com/github/00Himanshu/Cryptography/blob/main/Implement_SHA_1_Hash_Algorithm.ipynb\" target=\"_parent\"><img src=\"https://colab.research.google.com/assets/colab-badge.svg\" alt=\"Open In Colab\"/></a>"
      ]
    },
    {
      "cell_type": "code",
      "execution_count": 16,
      "metadata": {
        "colab": {
          "base_uri": "https://localhost:8080/"
        },
        "id": "RvXQHer5kJJA",
        "outputId": "03e0d450-25a7-4de3-93f8-902ce1829119"
      },
      "outputs": [
        {
          "output_type": "stream",
          "name": "stdout",
          "text": [
            "Hash value of 'Hello, World!': d146403ad1e4f790f644a232a94f0ec3503d2b5c\n",
            "\n",
            "Hash value of 'Testing SHA-1': 9bc3cc2aef4ec2aab68da9b7b2b67aba8a7aa945\n"
          ]
        }
      ],
      "source": [
        "def left_rotate(value, bits):\n",
        "    return ((value << bits) | (value >> (32 - bits))) & 0xffffffff  #Perform a left rotation on a 32-bit integer.\n",
        "\n",
        "def sha1(data):\n",
        "\n",
        "    h0, h1, h2, h3, h4 = 0x67452301, 0xEFCDAB89, 0x98BADCFE, 0x10325476, 0xC3D2E1F0\n",
        "    k1, k2, k3, k4 = 0x5A827999, 0x6ED9EBA1, 0x8F1BBCDC, 0xCA62C1D6\n",
        "\n",
        "    # Pre-processing: append a '1' bit, pad with '0' bits, and append the original message length\n",
        "    data += b'\\x80'\n",
        "    while (len(data) * 8) % 512 != 448:\n",
        "        data += b'\\x00'\n",
        "    data += (len(data) * 8).to_bytes(8, byteorder='big')\n",
        "\n",
        "\n",
        "    for i in range(0, len(data), 64): # Process the message in 512-bit chunks\n",
        "        chunk = data[i:i+64]\n",
        "        w = [0] * 80\n",
        "        for j in range(16):\n",
        "            w[j] = int.from_bytes(chunk[j*4:j*4+4], byteorder='big')\n",
        "        for j in range(16, 80):\n",
        "            w[j] = left_rotate(w[j-3] ^ w[j-8] ^ w[j-14] ^ w[j-16], 1)\n",
        "\n",
        "        a, b, c, d, e = h0, h1, h2, h3, h4\n",
        "        for j in range(80):\n",
        "            if j < 20:\n",
        "                f = (b & c) | ((~b) & d)\n",
        "                k = k1\n",
        "            elif j < 40:\n",
        "                f = b ^ c ^ d\n",
        "                k = k2\n",
        "            elif j < 60:\n",
        "                f = (b & c) | (b & d) | (c & d)\n",
        "                k = k3\n",
        "            else:\n",
        "                f = b ^ c ^ d\n",
        "                k = k4\n",
        "\n",
        "            a, b, c, d, e = ((left_rotate(a, 5) + f + e + k + w[j]) & 0xffffffff), a, left_rotate(b, 30), c, d\n",
        "\n",
        "        h0 = (h0 + a) & 0xffffffff\n",
        "        h1 = (h1 + b) & 0xffffffff\n",
        "        h2 = (h2 + c) & 0xffffffff\n",
        "        h3 = (h3 + d) & 0xffffffff\n",
        "        h4 = (h4 + e) & 0xffffffff\n",
        "\n",
        "    return '%08x%08x%08x%08x%08x' % (h0, h1, h2, h3, h4)\n",
        "\n",
        "print(f\"Hash value of 'Hello, World!': {sha1(b'Hello, World!')}\")\n",
        "print(f\"\\nHash value of 'Testing SHA-1': {sha1(b'Testing SHA-1')}\")"
      ]
    },
    {
      "cell_type": "code",
      "source": [],
      "metadata": {
        "id": "ifn5EYCGxDBv"
      },
      "execution_count": null,
      "outputs": []
    }
  ]
}