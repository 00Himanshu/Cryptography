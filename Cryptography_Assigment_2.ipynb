{
  "nbformat": 4,
  "nbformat_minor": 0,
  "metadata": {
    "colab": {
      "provenance": [],
      "authorship_tag": "ABX9TyMKUMMetQZRyImutACB/qbX",
      "include_colab_link": true
    },
    "kernelspec": {
      "name": "python3",
      "display_name": "Python 3"
    },
    "language_info": {
      "name": "python"
    }
  },
  "cells": [
    {
      "cell_type": "markdown",
      "metadata": {
        "id": "view-in-github",
        "colab_type": "text"
      },
      "source": [
        "<a href=\"https://colab.research.google.com/github/00Himanshu/Cryptography/blob/main/Cryptography_Assigment_2.ipynb\" target=\"_parent\"><img src=\"https://colab.research.google.com/assets/colab-badge.svg\" alt=\"Open In Colab\"/></a>"
      ]
    },
    {
      "cell_type": "code",
      "execution_count": 16,
      "metadata": {
        "id": "sLXSr8wvSrVU",
        "colab": {
          "base_uri": "https://localhost:8080/",
          "height": 539
        },
        "outputId": "75a00628-d5ee-41df-eefc-449ffa0c0b96"
      },
      "outputs": [
        {
          "output_type": "stream",
          "name": "stdout",
          "text": [
            "Requirement already satisfied: Crypto in /usr/local/lib/python3.10/dist-packages (1.4.1)\n",
            "Requirement already satisfied: Naked in /usr/local/lib/python3.10/dist-packages (from Crypto) (0.1.32)\n",
            "Requirement already satisfied: shellescape in /usr/local/lib/python3.10/dist-packages (from Crypto) (3.8.1)\n",
            "Requirement already satisfied: requests in /usr/local/lib/python3.10/dist-packages (from Naked->Crypto) (2.31.0)\n",
            "Requirement already satisfied: pyyaml in /usr/local/lib/python3.10/dist-packages (from Naked->Crypto) (6.0.1)\n",
            "Requirement already satisfied: charset-normalizer<4,>=2 in /usr/local/lib/python3.10/dist-packages (from requests->Naked->Crypto) (3.3.2)\n",
            "Requirement already satisfied: idna<4,>=2.5 in /usr/local/lib/python3.10/dist-packages (from requests->Naked->Crypto) (3.7)\n",
            "Requirement already satisfied: urllib3<3,>=1.21.1 in /usr/local/lib/python3.10/dist-packages (from requests->Naked->Crypto) (2.0.7)\n",
            "Requirement already satisfied: certifi>=2017.4.17 in /usr/local/lib/python3.10/dist-packages (from requests->Naked->Crypto) (2024.2.2)\n"
          ]
        },
        {
          "output_type": "error",
          "ename": "ModuleNotFoundError",
          "evalue": "No module named 'Crypto'",
          "traceback": [
            "\u001b[0;31m---------------------------------------------------------------------------\u001b[0m",
            "\u001b[0;31mModuleNotFoundError\u001b[0m                       Traceback (most recent call last)",
            "\u001b[0;32m<ipython-input-16-5d3ddc5aa9ef>\u001b[0m in \u001b[0;36m<cell line: 2>\u001b[0;34m()\u001b[0m\n\u001b[1;32m      1\u001b[0m \u001b[0mget_ipython\u001b[0m\u001b[0;34m(\u001b[0m\u001b[0;34m)\u001b[0m\u001b[0;34m.\u001b[0m\u001b[0msystem\u001b[0m\u001b[0;34m(\u001b[0m\u001b[0;34m'pip install Crypto'\u001b[0m\u001b[0;34m)\u001b[0m\u001b[0;34m\u001b[0m\u001b[0;34m\u001b[0m\u001b[0m\n\u001b[0;32m----> 2\u001b[0;31m \u001b[0;32mfrom\u001b[0m \u001b[0mCrypto\u001b[0m\u001b[0;34m.\u001b[0m\u001b[0mCipher\u001b[0m \u001b[0;32mimport\u001b[0m \u001b[0mAES\u001b[0m\u001b[0;34m\u001b[0m\u001b[0;34m\u001b[0m\u001b[0m\n\u001b[0m\u001b[1;32m      3\u001b[0m \u001b[0;32mfrom\u001b[0m \u001b[0mCrypto\u001b[0m\u001b[0;34m.\u001b[0m\u001b[0mRandom\u001b[0m \u001b[0;32mimport\u001b[0m \u001b[0mget_random_bytes\u001b[0m\u001b[0;34m\u001b[0m\u001b[0;34m\u001b[0m\u001b[0m\n\u001b[1;32m      4\u001b[0m \u001b[0;32mfrom\u001b[0m \u001b[0mCrypto\u001b[0m\u001b[0;34m.\u001b[0m\u001b[0mUtil\u001b[0m\u001b[0;34m.\u001b[0m\u001b[0mPadding\u001b[0m \u001b[0;32mimport\u001b[0m \u001b[0mpad\u001b[0m\u001b[0;34m,\u001b[0m \u001b[0munpad\u001b[0m\u001b[0;34m\u001b[0m\u001b[0;34m\u001b[0m\u001b[0m\n\u001b[1;32m      5\u001b[0m \u001b[0;34m\u001b[0m\u001b[0m\n",
            "\u001b[0;31mModuleNotFoundError\u001b[0m: No module named 'Crypto'",
            "",
            "\u001b[0;31m---------------------------------------------------------------------------\u001b[0;32m\nNOTE: If your import is failing due to a missing package, you can\nmanually install dependencies using either !pip or !apt.\n\nTo view examples of installing some common dependencies, click the\n\"Open Examples\" button below.\n\u001b[0;31m---------------------------------------------------------------------------\u001b[0m\n"
          ],
          "errorDetails": {
            "actions": [
              {
                "action": "open_url",
                "actionText": "Open Examples",
                "url": "/notebooks/snippets/importing_libraries.ipynb"
              }
            ]
          }
        }
      ],
      "source": [
        "!pip install Crypto\n",
        "from Crypto.Cipher import AES\n",
        "from Crypto.Random import get_random_bytes\n",
        "from Crypto.Util.Padding import pad, unpad\n",
        "\n",
        "# Function to generate a random IV (Initialization Vector)\n",
        "def generate_iv():\n",
        "    return get_random_bytes(16)\n",
        "\n",
        "# Function to encrypt plaintext using Counter Mode (CTR)\n",
        "def encrypt_ctr(plaintext, key):\n",
        "    iv = generate_iv()\n",
        "    cipher = AES.new(key, AES.MODE_CTR, nonce=iv)\n",
        "    ciphertext = cipher.encrypt(plaintext)\n",
        "    return iv + ciphertext\n",
        "\n",
        "# Function to decrypt ciphertext using Counter Mode (CTR)\n",
        "def decrypt_ctr(ciphertext, key):\n",
        "    iv = ciphertext[:16]\n",
        "    cipher = AES.new(key, AES.MODE_CTR, nonce=iv)\n",
        "    plaintext = cipher.decrypt(ciphertext[16:])\n",
        "    return plaintext\n",
        "\n",
        "# Function to encrypt plaintext using Cipher Feedback Mode (CFB)\n",
        "def encrypt_cfb(plaintext, key):\n",
        "    iv = generate_iv()\n",
        "    cipher = AES.new(key, AES.MODE_CFB, iv=iv)\n",
        "    ciphertext = cipher.encrypt(plaintext)\n",
        "    return iv + ciphertext\n",
        "\n",
        "# Function to decrypt ciphertext using Cipher Feedback Mode (CFB)\n",
        "def decrypt_cfb(ciphertext, key):\n",
        "    iv = ciphertext[:16]\n",
        "    cipher = AES.new(key, AES.MODE_CFB, iv=iv)\n",
        "    plaintext = cipher.decrypt(ciphertext[16:])\n",
        "    return plaintext\n",
        "\n",
        "# Main function to demonstrate encryption and decryption\n",
        "def main():\n",
        "    key = get_random_bytes(16)  # Generate a random 128-bit key\n",
        "\n",
        "    # Example plaintext\n",
        "    plaintext = b\"Hello, this is a secret message!\"\n",
        "\n",
        "    # Encrypt using Counter Mode (CTR)\n",
        "    ciphertext_ctr = encrypt_ctr(pad(plaintext, 16), key)\n",
        "    print(\"Ciphertext (CTR):\", ciphertext_ctr.hex())\n",
        "\n",
        "    # Decrypt using Counter Mode (CTR)\n",
        "    decrypted_ctr = unpad(decrypt_ctr(ciphertext_ctr, key), 16)\n",
        "    print(\"Decrypted (CTR):\", decrypted_ctr.decode())\n",
        "\n",
        "    # Encrypt using Cipher Feedback Mode (CFB)\n",
        "    ciphertext_cfb = encrypt_cfb(pad(plaintext, 16), key)\n",
        "    print(\"Ciphertext (CFB):\", ciphertext_cfb.hex())\n",
        "\n",
        "    # Decrypt using Cipher Feedback Mode (CFB)\n",
        "    decrypted_cfb = unpad(decrypt_cfb(ciphertext_cfb, key), 16)\n",
        "    print(\"Decrypted (CFB):\", decrypted_cfb.decode())\n",
        "\n",
        "if __name__ == \"__main__\":\n",
        "    main()\n"
      ]
    },
    {
      "cell_type": "code",
      "source": [
        "!pip install pyDes\n",
        "from cryptography.hazmat.backends import default_backend\n",
        "from cryptography.hazmat.primitives.ciphers import Cipher, algorithms, modes\n",
        "from cryptography.hazmat.primitives import padding\n",
        "import os\n",
        "import pyDes\n",
        "\n",
        "def ctr_encrypt(plaintext, key):\n",
        "    iv = os.urandom(16)\n",
        "    cipher = Cipher(algorithms.AES(key), modes.CTR(iv), backend=default_backend())\n",
        "    encryptor = cipher.encryptor()\n",
        "    ciphertext = encryptor.update(plaintext) + encryptor.finalize()\n",
        "    return iv + ciphertext\n",
        "\n",
        "def ctr_decrypt(ciphertext, key):\n",
        "    iv = ciphertext[:16]\n",
        "    ciphertext = ciphertext[16:]\n",
        "    cipher = Cipher(algorithms.AES(key), modes.CTR(iv), backend=default_backend())\n",
        "    decryptor = cipher.decryptor()\n",
        "    plaintext = decryptor.update(ciphertext) + decryptor.finalize()\n",
        "    return plaintext\n",
        "\n",
        "key = b'thisisa16bytekey'\n",
        "plaintext = b'Hello, cryptography!'\n",
        "ciphertext = ctr_encrypt(plaintext, key)\n",
        "print(\"Encrypted:\", (ciphertext).hex())\n",
        "decrypted_text = ctr_decrypt(ciphertext, key)\n",
        "print(\"Decrypted:\", decrypted_text.decode('utf-8'))\n"
      ],
      "metadata": {
        "colab": {
          "base_uri": "https://localhost:8080/"
        },
        "id": "UP5QcEnQTDwP",
        "outputId": "18ca38ac-5a91-440a-f3cd-0300025fe94c"
      },
      "execution_count": 13,
      "outputs": [
        {
          "output_type": "stream",
          "name": "stdout",
          "text": [
            "Requirement already satisfied: pyDes in /usr/local/lib/python3.10/dist-packages (2.0.1)\n",
            "Encrypted: c490808832fbbe7d728337a614a5e60ef91cf7c74d9287cc068112f7bd29262e72495167\n",
            "Decrypted: Hello, cryptography!\n"
          ]
        }
      ]
    },
    {
      "cell_type": "code",
      "source": [
        "def cfb_encrypt(plaintext, key):\n",
        "    iv = os.urandom(16)\n",
        "    cipher = Cipher(algorithms.AES(key), modes.CFB(iv), backend=default_backend())\n",
        "    encryptor = cipher.encryptor()\n",
        "    ciphertext = encryptor.update(plaintext) + encryptor.finalize()\n",
        "    return iv + ciphertext\n",
        "\n",
        "def cfb_decrypt(ciphertext, key):\n",
        "    iv = ciphertext[:16]\n",
        "    ciphertext = ciphertext[16:]\n",
        "    cipher = Cipher(algorithms.AES(key), modes.CFB(iv), backend=default_backend())\n",
        "    decryptor = cipher.decryptor()\n",
        "    plaintext = decryptor.update(ciphertext) + decryptor.finalize()\n",
        "    return plaintext\n",
        "\n",
        "\n",
        "key = b'thisisa16bytekey'\n",
        "plaintext = b'Hello, cryptography!'\n",
        "ciphertext = ctr_encrypt(plaintext, key)\n",
        "print(\"Encrypted:\", (ciphertext).hex())\n",
        "decrypted_text = ctr_decrypt(ciphertext, key)\n",
        "print(\"Decrypted:\", decrypted_text.decode('utf-8'))\n"
      ],
      "metadata": {
        "colab": {
          "base_uri": "https://localhost:8080/"
        },
        "id": "BoIvyUb6TG4u",
        "outputId": "73420491-499c-44dd-b9c0-1fa6033e5da6"
      },
      "execution_count": 14,
      "outputs": [
        {
          "output_type": "stream",
          "name": "stdout",
          "text": [
            "Encrypted: 711f580126201c7fc28292a6640c67f01912a024842d17f9f63265f0e23cb58efb955bd4\n",
            "Decrypted: Hello, cryptography!\n"
          ]
        }
      ]
    }
  ]
}